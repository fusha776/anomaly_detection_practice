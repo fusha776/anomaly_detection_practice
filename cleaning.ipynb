{
 "cells": [
  {
   "cell_type": "markdown",
   "metadata": {},
   "source": [
    "#### 気象庁からDLしてきたデータを整形する\n",
    "\n",
    "日別気温と日別湿度について、同地域を4か月毎に分けてDL  \n",
    "対象地域と対象期間が分かるようにあらかじめファイル名へ埋め込み"
   ]
  },
  {
   "cell_type": "code",
   "execution_count": 251,
   "metadata": {},
   "outputs": [],
   "source": [
    "import pandas as pd\n",
    "import numpy as np\n",
    "import glob"
   ]
  },
  {
   "cell_type": "code",
   "execution_count": 256,
   "metadata": {},
   "outputs": [],
   "source": [
    "# リザルトをキャッシュする箱を生成\n",
    "all_location_df = pd.DataFrame(columns=[\"ymd\", \"pref\", \"pref_sub\", \"area\", \"temperature\", \"humidity\"])"
   ]
  },
  {
   "cell_type": "code",
   "execution_count": 257,
   "metadata": {},
   "outputs": [],
   "source": [
    "# 拾ってくる地点をセット\n",
    "t_pref = [\n",
    "    \"aichi\",\n",
    "    \"akita\",\n",
    "    \"aomori\",\n",
    "    \"ehime\",\n",
    "    \"fukushima\",\n",
    "    \"gifu\",\n",
    "    \"gunma\",\n",
    "    \"hirosima\",\n",
    "    \"hokkaido_abashiri\",\n",
    "    \"hokkaido_hidaka\",\n",
    "    \"hokkaido_hiyama\",\n",
    "    \"hokkaido_iburi\",\n",
    "    \"hokkaido_ishikari\",\n",
    "    \"hokkaido_kamikawa\",\n",
    "    \"hokkaido_kushiro\",\n",
    "    \"hokkaido_nemuro\",\n",
    "    \"hokkaido_oshima\",\n",
    "    \"hokkaido_rumoi\",\n",
    "    \"hokkaido_shiribeshi\",\n",
    "    \"hokkaido_sorachi\",\n",
    "    \"hokkaido_soya\",\n",
    "    \"hokkaido_tokachi\",\n",
    "    \"hukui\",\n",
    "    \"hukuoka\",\n",
    "    \"hyogo\",\n",
    "    \"ibaraki\",\n",
    "    \"isikawa\",\n",
    "    \"iwate\",\n",
    "    \"kagawa\",\n",
    "    \"kagosima\",\n",
    "    \"kanagawa\",\n",
    "    \"kochi\",\n",
    "    \"kumamoto\",\n",
    "    \"kyoto\",\n",
    "    \"mie\",\n",
    "    \"miyagi\",\n",
    "    \"miyazaki\",\n",
    "    \"nagano\",\n",
    "    \"nagasaki\",\n",
    "    \"nara\",\n",
    "    \"nigata\",\n",
    "    \"oita\",\n",
    "    \"okayama\",\n",
    "    \"okinawa\",\n",
    "    \"osaka\",\n",
    "    \"saga\",\n",
    "    \"saitama\",\n",
    "    \"siga\",\n",
    "    \"simane\",\n",
    "    \"sizuoka\",\n",
    "    \"tiba\",\n",
    "    \"tochigi\",\n",
    "    \"tokushima\",\n",
    "    \"tokyo\",\n",
    "    \"tottori\",\n",
    "    \"toyama\",\n",
    "    \"wakayama\",\n",
    "    \"yamagata\",\n",
    "    \"yamaguchi\",\n",
    "    \"yamanashi\"]"
   ]
  },
  {
   "cell_type": "code",
   "execution_count": 242,
   "metadata": {},
   "outputs": [],
   "source": [
    "# 気象庁の物故割れ気味のデータをまずいい感じに整形する\n",
    "def create_cleaned_df(t_name):\n",
    "\n",
    "    location_df = pd.DataFrame(columns=[\"ymd\", \"pref\", \"pref_sub\", \"area\", \"temperature\", \"humidity\"])\n",
    "    \n",
    "    # ファイルロード\n",
    "    df_input_1 = pd.read_csv(\"../data/temperature_humidity_index/raw/{0}_2018_1_4.csv\".format(t_name), \n",
    "                 encoding=\"sjis\",\n",
    "                 skiprows=2,\n",
    "                 header=None\n",
    "                )\n",
    "    df_input_2 = pd.read_csv(\"../data/temperature_humidity_index/raw/{0}_2018_5_8.csv\".format(t_name), \n",
    "                 encoding=\"sjis\",\n",
    "                 skiprows=2,\n",
    "                 header=None\n",
    "                )\n",
    "    df_input_3 = pd.read_csv(\"../data/temperature_humidity_index/raw/{0}_2018_9_12.csv\".format(t_name), \n",
    "                 encoding=\"sjis\",\n",
    "                 skiprows=2,\n",
    "                 header=None\n",
    "                )\n",
    "    df = pd.concat([df_input_1, df_input_2[4:], df_input_3[4:]])\n",
    "    df = df.reset_index(drop=True)\n",
    "    \n",
    "    # 少なくとも温度を観測している気象台のデータだけに絞ってまとめる\n",
    "    for c_i in range(0, df.shape[1] - 1, 6):\n",
    "        # dfの中にある1地域をロード\n",
    "        area_df = df.loc[:, [0, c_i+1, c_i+2, c_i+3, c_i+4, c_i+5, c_i+6]]\n",
    "        \n",
    "        # もし気温が集計項目になっていなければ、skipする\n",
    "        if area_df.iloc[4,2] == \"0\":\n",
    "            continue\n",
    "\n",
    "        # 必要な分類値を回収して、分類のための行を捨てる\n",
    "        pref_sub = area_df.iloc[0, 1] # 都道府県（気象庁区切り）\n",
    "        area = area_df.iloc[1, 1] # 地域\n",
    "        area_df = area_df.loc[4:,:]\n",
    "\n",
    "        # 整形する\n",
    "        area_df = area_df.iloc[:, [0, 1, 4]]\n",
    "        area_df.columns = [\"ymd\", \"temperature\", \"humidity\"]\n",
    "        area_df = area_df.reset_index(drop=True)\n",
    "\n",
    "        # 追加列をぶち込む\n",
    "        area_df[\"pref\"] = t_name\n",
    "        area_df[\"pref_sub\"] = pref_sub\n",
    "        area_df[\"area\"] = area\n",
    "        area_df = area_df[[\"ymd\", \"pref\", \"pref_sub\", \"area\", \"temperature\", \"humidity\"]]\n",
    "        \n",
    "        # 都道府県dfへキャッシュ\n",
    "        location_df = pd.concat([location_df, area_df])\n",
    "    \n",
    "    return location_df"
   ]
  },
  {
   "cell_type": "code",
   "execution_count": null,
   "metadata": {},
   "outputs": [],
   "source": [
    "# 全データを整形\n",
    "for p_i in t_pref:\n",
    "    all_location_df = pd.concat([all_location_df, create_cleaned_df(p_i)])"
   ]
  },
  {
   "cell_type": "code",
   "execution_count": null,
   "metadata": {},
   "outputs": [],
   "source": [
    "# とりあえずセーブ\n",
    "all_location_df.to_csv(\"../data/temperature_humidity_index/processed/all_location.csv\", index=False)"
   ]
  },
  {
   "cell_type": "code",
   "execution_count": 334,
   "metadata": {},
   "outputs": [],
   "source": [
    "# 湿度が観測できたところだけ、不快指数を計算してセーブ\n",
    "humidity_df = all_location_df[all_location_df[\"humidity\"].isnull() != True].copy()\n",
    "# 計算前に型変換\n",
    "humidity_df[\"temperature\"] = humidity_df[\"temperature\"].astype(np.float64)\n",
    "humidity_df[\"humidity\"] = humidity_df[\"humidity\"].astype(np.float64)\n",
    "\n",
    "# 不快指数を計算 \n",
    "humidity_df[\"hukai_index\"] = (humidity_df['temperature'].apply(lambda x: x * 0.81) + \n",
    "                              humidity_df['humidity'].apply(lambda x: x * 0.01) *\n",
    "                              (humidity_df['temperature'].apply(lambda x: x * 0.99) - 14.3) +\n",
    "                              46.3)\n",
    "\n",
    "humidity_df.to_csv(\"./data/location_with_humidity.csv\", index=False)"
   ]
  },
  {
   "cell_type": "code",
   "execution_count": null,
   "metadata": {},
   "outputs": [],
   "source": []
  }
 ],
 "metadata": {
  "kernelspec": {
   "display_name": "Python 3",
   "language": "python",
   "name": "python3"
  },
  "language_info": {
   "codemirror_mode": {
    "name": "ipython",
    "version": 3
   },
   "file_extension": ".py",
   "mimetype": "text/x-python",
   "name": "python",
   "nbconvert_exporter": "python",
   "pygments_lexer": "ipython3",
   "version": "3.6.7"
  }
 },
 "nbformat": 4,
 "nbformat_minor": 2
}
